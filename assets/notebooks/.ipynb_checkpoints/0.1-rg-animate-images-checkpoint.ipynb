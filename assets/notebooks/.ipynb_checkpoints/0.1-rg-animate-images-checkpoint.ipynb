{
 "cells": [
  {
   "cell_type": "markdown",
   "metadata": {},
   "source": [
    "# Create GIF animation from a series of images"
   ]
  },
  {
   "cell_type": "code",
   "execution_count": 11,
   "metadata": {},
   "outputs": [],
   "source": [
    "from pathlib import Path\n",
    "from pprint import pprint\n",
    "from PIL import Image"
   ]
  },
  {
   "cell_type": "code",
   "execution_count": 36,
   "metadata": {},
   "outputs": [],
   "source": [
    "folder = '/Users/rustem.galiullin/Downloads/en_clusters/'\n",
    "match = 'Screen Shot'\n",
    "duration = 2000\n",
    "\n",
    "output_file = f'../images/en_clusters.gif'"
   ]
  },
  {
   "cell_type": "code",
   "execution_count": 37,
   "metadata": {},
   "outputs": [],
   "source": [
    "files = list(Path(folder).glob(match + '*.png'))"
   ]
  },
  {
   "cell_type": "code",
   "execution_count": 38,
   "metadata": {},
   "outputs": [
    {
     "name": "stdout",
     "output_type": "stream",
     "text": [
      "[PosixPath('/Users/rustem.galiullin/Downloads/en_clusters/Screen Shot 2020-06-01 at 22.07.34.png'),\n",
      " PosixPath('/Users/rustem.galiullin/Downloads/en_clusters/Screen Shot 2020-06-01 at 22.07.09.png'),\n",
      " PosixPath('/Users/rustem.galiullin/Downloads/en_clusters/Screen Shot 2020-06-01 at 22.07.24.png'),\n",
      " PosixPath('/Users/rustem.galiullin/Downloads/en_clusters/Screen Shot 2020-06-01 at 22.07.42.png'),\n",
      " PosixPath('/Users/rustem.galiullin/Downloads/en_clusters/Screen Shot 2020-06-01 at 22.08.14.png'),\n",
      " PosixPath('/Users/rustem.galiullin/Downloads/en_clusters/Screen Shot 2020-06-01 at 22.07.53.png'),\n",
      " PosixPath('/Users/rustem.galiullin/Downloads/en_clusters/Screen Shot 2020-06-01 at 22.08.02.png'),\n",
      " PosixPath('/Users/rustem.galiullin/Downloads/en_clusters/Screen Shot 2020-06-01 at 22.08.27.png'),\n",
      " PosixPath('/Users/rustem.galiullin/Downloads/en_clusters/Screen Shot 2020-06-01 at 22.08.08.png'),\n",
      " PosixPath('/Users/rustem.galiullin/Downloads/en_clusters/Screen Shot 2020-06-01 at 22.07.01.png')]\n"
     ]
    }
   ],
   "source": [
    "pprint(files)"
   ]
  },
  {
   "cell_type": "code",
   "execution_count": 39,
   "metadata": {},
   "outputs": [],
   "source": [
    "frames = []\n",
    "\n",
    "for f in files:\n",
    "    img = Image.open(f)\n",
    "    frames.append(img)\n",
    "\n",
    "frames[0].save(output_file, format='GIF', append_images=frames[1:], save_all=True,\n",
    "               duration=duration, loop=0)"
   ]
  },
  {
   "cell_type": "code",
   "execution_count": null,
   "metadata": {},
   "outputs": [],
   "source": []
  }
 ],
 "metadata": {
  "kernelspec": {
   "display_name": "myblog",
   "language": "python",
   "name": "myblog"
  },
  "language_info": {
   "codemirror_mode": {
    "name": "ipython",
    "version": 3
   },
   "file_extension": ".py",
   "mimetype": "text/x-python",
   "name": "python",
   "nbconvert_exporter": "python",
   "pygments_lexer": "ipython3",
   "version": "3.7.7"
  }
 },
 "nbformat": 4,
 "nbformat_minor": 4
}
